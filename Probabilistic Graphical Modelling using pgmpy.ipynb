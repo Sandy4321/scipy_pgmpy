{
 "metadata": {
  "name": "",
  "signature": "sha256:f9edd62e825203933c350dfd37a49a70ededb29b6e78da4a17006174386c4dcd"
 },
 "nbformat": 3,
 "nbformat_minor": 0,
 "worksheets": [
  {
   "cells": [
    {
     "cell_type": "markdown",
     "metadata": {},
     "source": [
      "# 1. Add some basic theory about what is probabilistic graphical models including explaining a bit what models are and parameters etc."
     ]
    },
    {
     "cell_type": "markdown",
     "metadata": {},
     "source": [
      "# 2. Show a quick example on how pgmpy can simple do all this with a fit and predict method."
     ]
    },
    {
     "cell_type": "markdown",
     "metadata": {},
     "source": [
      "# 3. Go in depth about other properties of models and how pgmpy simplifies everything."
     ]
    },
    {
     "cell_type": "code",
     "collapsed": false,
     "input": [],
     "language": "python",
     "metadata": {},
     "outputs": []
    }
   ],
   "metadata": {}
  }
 ]
}