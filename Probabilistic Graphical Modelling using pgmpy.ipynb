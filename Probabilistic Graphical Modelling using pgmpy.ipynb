{
 "metadata": {
  "name": "",
  "signature": "sha256:6a638add132ae2bc77bb8d10b1dedbc67195a3e78fa9f23a6eb27e45afde55df"
 },
 "nbformat": 3,
 "nbformat_minor": 0,
 "worksheets": [
  {
   "cells": [
    {
     "cell_type": "markdown",
     "metadata": {},
     "source": [
      "# 1. Add some basic theory about what is probabilistic graphical models including explaining a bit what models are and parameters etc."
     ]
    },
    {
     "cell_type": "markdown",
     "metadata": {},
     "source": [
      "#### What is machine learning?\n",
      "\n",
      "Machine learning is a scientific discipline that explores the construction and study of algorithms that can learn from data. Such algorithms operate by building a model from example inputs and using that to make predictions or decisions, rather than following strictly static program instructions. Probabilistic Graphical Models (PGMs) are an important method in the machine learning field. In this notebook, we will discuss how you can use pgmpy to understand and use them.\n",
      "\n",
      "Consider the problem of classification that is encountered quite frequently. Classification involves assigning a class label to new data points on the basis of some data set.\n",
      "\n",
      "There are multiple ways to solve this problem:\n",
      "1. We can try to find a function which can directly map an input value to it's class label.\n",
      "2. We can find the probability distributions over the variables and then use this distribution to answer queries about the new data point by conditioning it on the new data point."
     ]
    },
    {
     "cell_type": "markdown",
     "metadata": {},
     "source": [
      "#### What is Probabilistic Graphical Models(PGM)?\n",
      "\n",
      "Probabilistic Graphical models allowss us to represent joint probability distributions in an efficient way and also do operations on it in lesser time complexity. In PGM we exploit the relationship between the random variables to get a compact representation."
     ]
    },
    {
     "cell_type": "markdown",
     "metadata": {},
     "source": [
      "#### Example\n",
      "Let's take an example of an alarm system. So, we have two features let's say racoon and intruder and we would like to predict if the alarm will ring or not. Let's say we have the following probability distribution over these variables:\n",
      "\n",
      "\n",
      "Now let's try to represent it using Probabilistic Graphical Models. We get the following model:\n",
      "\n",
      "We can easily see here that we can represent the model using 6 parameters rather than 7 in the case of joint distribution. In the cases of models having many variables there is a huge difference in this. This kind of directed model is known as a Bayesian Network."
     ]
    },
    {
     "cell_type": "markdown",
     "metadata": {},
     "source": [
      "# 2. Show a quick example on how pgmpy can simple do all this with a fit and predict method."
     ]
    },
    {
     "cell_type": "markdown",
     "metadata": {},
     "source": [
      "Let's now take a quick example using pgmpy."
     ]
    },
    {
     "cell_type": "code",
     "collapsed": false,
     "input": [
      "from sklearn.datasets import load_iris\n",
      "from pgmpy.models import BayesianModel\n",
      "\n",
      "iris = load_iris()\n",
      "X = iris.data\n",
      "y = iris.target\n",
      "\n",
      "# Making it a classification problem\n",
      "X = X.astype('int')\n",
      "\n",
      "data = pd.DataFrame(X)\n",
      "\n",
      "\n",
      "model = BayesianModel()"
     ],
     "language": "python",
     "metadata": {},
     "outputs": []
    },
    {
     "cell_type": "markdown",
     "metadata": {},
     "source": [
      "# 3. Go in depth about other properties of models and how pgmpy simplifies everything."
     ]
    },
    {
     "cell_type": "code",
     "collapsed": false,
     "input": [],
     "language": "python",
     "metadata": {},
     "outputs": []
    }
   ],
   "metadata": {}
  }
 ]
}